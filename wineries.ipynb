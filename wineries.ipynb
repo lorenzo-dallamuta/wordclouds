{
    "cells": [
        {
            "cell_type": "code",
            "execution_count": 57,
            "source": [
                "import pandas as pd\n",
                "df = pd.read_csv(\"datasets/winemag-data-130k-v2.csv\", index_col=0)"
            ],
            "outputs": [],
            "metadata": {}
        },
        {
            "cell_type": "code",
            "execution_count": 58,
            "source": [
                "df.head()"
            ],
            "outputs": [
                {
                    "output_type": "execute_result",
                    "data": {
                        "text/plain": [
                            "    country                                        description  \\\n",
                            "0     Italy  Aromas include tropical fruit, broom, brimston...   \n",
                            "1  Portugal  This is ripe and fruity, a wine that is smooth...   \n",
                            "2        US  Tart and snappy, the flavors of lime flesh and...   \n",
                            "3        US  Pineapple rind, lemon pith and orange blossom ...   \n",
                            "4        US  Much like the regular bottling from 2012, this...   \n",
                            "\n",
                            "                          designation  points  price           province  \\\n",
                            "0                        Vulkà Bianco      87    NaN  Sicily & Sardinia   \n",
                            "1                            Avidagos      87   15.0              Douro   \n",
                            "2                                 NaN      87   14.0             Oregon   \n",
                            "3                Reserve Late Harvest      87   13.0           Michigan   \n",
                            "4  Vintner's Reserve Wild Child Block      87   65.0             Oregon   \n",
                            "\n",
                            "              region_1           region_2         taster_name  \\\n",
                            "0                 Etna                NaN       Kerin O’Keefe   \n",
                            "1                  NaN                NaN          Roger Voss   \n",
                            "2    Willamette Valley  Willamette Valley        Paul Gregutt   \n",
                            "3  Lake Michigan Shore                NaN  Alexander Peartree   \n",
                            "4    Willamette Valley  Willamette Valley        Paul Gregutt   \n",
                            "\n",
                            "  taster_twitter_handle                                              title  \\\n",
                            "0          @kerinokeefe                  Nicosia 2013 Vulkà Bianco  (Etna)   \n",
                            "1            @vossroger      Quinta dos Avidagos 2011 Avidagos Red (Douro)   \n",
                            "2           @paulgwine       Rainstorm 2013 Pinot Gris (Willamette Valley)   \n",
                            "3                   NaN  St. Julian 2013 Reserve Late Harvest Riesling ...   \n",
                            "4           @paulgwine   Sweet Cheeks 2012 Vintner's Reserve Wild Child...   \n",
                            "\n",
                            "          variety               winery  \n",
                            "0     White Blend              Nicosia  \n",
                            "1  Portuguese Red  Quinta dos Avidagos  \n",
                            "2      Pinot Gris            Rainstorm  \n",
                            "3        Riesling           St. Julian  \n",
                            "4      Pinot Noir         Sweet Cheeks  "
                        ],
                        "text/html": [
                            "<div>\n",
                            "<style scoped>\n",
                            "    .dataframe tbody tr th:only-of-type {\n",
                            "        vertical-align: middle;\n",
                            "    }\n",
                            "\n",
                            "    .dataframe tbody tr th {\n",
                            "        vertical-align: top;\n",
                            "    }\n",
                            "\n",
                            "    .dataframe thead th {\n",
                            "        text-align: right;\n",
                            "    }\n",
                            "</style>\n",
                            "<table border=\"1\" class=\"dataframe\">\n",
                            "  <thead>\n",
                            "    <tr style=\"text-align: right;\">\n",
                            "      <th></th>\n",
                            "      <th>country</th>\n",
                            "      <th>description</th>\n",
                            "      <th>designation</th>\n",
                            "      <th>points</th>\n",
                            "      <th>price</th>\n",
                            "      <th>province</th>\n",
                            "      <th>region_1</th>\n",
                            "      <th>region_2</th>\n",
                            "      <th>taster_name</th>\n",
                            "      <th>taster_twitter_handle</th>\n",
                            "      <th>title</th>\n",
                            "      <th>variety</th>\n",
                            "      <th>winery</th>\n",
                            "    </tr>\n",
                            "  </thead>\n",
                            "  <tbody>\n",
                            "    <tr>\n",
                            "      <th>0</th>\n",
                            "      <td>Italy</td>\n",
                            "      <td>Aromas include tropical fruit, broom, brimston...</td>\n",
                            "      <td>Vulkà Bianco</td>\n",
                            "      <td>87</td>\n",
                            "      <td>NaN</td>\n",
                            "      <td>Sicily &amp; Sardinia</td>\n",
                            "      <td>Etna</td>\n",
                            "      <td>NaN</td>\n",
                            "      <td>Kerin O’Keefe</td>\n",
                            "      <td>@kerinokeefe</td>\n",
                            "      <td>Nicosia 2013 Vulkà Bianco  (Etna)</td>\n",
                            "      <td>White Blend</td>\n",
                            "      <td>Nicosia</td>\n",
                            "    </tr>\n",
                            "    <tr>\n",
                            "      <th>1</th>\n",
                            "      <td>Portugal</td>\n",
                            "      <td>This is ripe and fruity, a wine that is smooth...</td>\n",
                            "      <td>Avidagos</td>\n",
                            "      <td>87</td>\n",
                            "      <td>15.0</td>\n",
                            "      <td>Douro</td>\n",
                            "      <td>NaN</td>\n",
                            "      <td>NaN</td>\n",
                            "      <td>Roger Voss</td>\n",
                            "      <td>@vossroger</td>\n",
                            "      <td>Quinta dos Avidagos 2011 Avidagos Red (Douro)</td>\n",
                            "      <td>Portuguese Red</td>\n",
                            "      <td>Quinta dos Avidagos</td>\n",
                            "    </tr>\n",
                            "    <tr>\n",
                            "      <th>2</th>\n",
                            "      <td>US</td>\n",
                            "      <td>Tart and snappy, the flavors of lime flesh and...</td>\n",
                            "      <td>NaN</td>\n",
                            "      <td>87</td>\n",
                            "      <td>14.0</td>\n",
                            "      <td>Oregon</td>\n",
                            "      <td>Willamette Valley</td>\n",
                            "      <td>Willamette Valley</td>\n",
                            "      <td>Paul Gregutt</td>\n",
                            "      <td>@paulgwine</td>\n",
                            "      <td>Rainstorm 2013 Pinot Gris (Willamette Valley)</td>\n",
                            "      <td>Pinot Gris</td>\n",
                            "      <td>Rainstorm</td>\n",
                            "    </tr>\n",
                            "    <tr>\n",
                            "      <th>3</th>\n",
                            "      <td>US</td>\n",
                            "      <td>Pineapple rind, lemon pith and orange blossom ...</td>\n",
                            "      <td>Reserve Late Harvest</td>\n",
                            "      <td>87</td>\n",
                            "      <td>13.0</td>\n",
                            "      <td>Michigan</td>\n",
                            "      <td>Lake Michigan Shore</td>\n",
                            "      <td>NaN</td>\n",
                            "      <td>Alexander Peartree</td>\n",
                            "      <td>NaN</td>\n",
                            "      <td>St. Julian 2013 Reserve Late Harvest Riesling ...</td>\n",
                            "      <td>Riesling</td>\n",
                            "      <td>St. Julian</td>\n",
                            "    </tr>\n",
                            "    <tr>\n",
                            "      <th>4</th>\n",
                            "      <td>US</td>\n",
                            "      <td>Much like the regular bottling from 2012, this...</td>\n",
                            "      <td>Vintner's Reserve Wild Child Block</td>\n",
                            "      <td>87</td>\n",
                            "      <td>65.0</td>\n",
                            "      <td>Oregon</td>\n",
                            "      <td>Willamette Valley</td>\n",
                            "      <td>Willamette Valley</td>\n",
                            "      <td>Paul Gregutt</td>\n",
                            "      <td>@paulgwine</td>\n",
                            "      <td>Sweet Cheeks 2012 Vintner's Reserve Wild Child...</td>\n",
                            "      <td>Pinot Noir</td>\n",
                            "      <td>Sweet Cheeks</td>\n",
                            "    </tr>\n",
                            "  </tbody>\n",
                            "</table>\n",
                            "</div>"
                        ]
                    },
                    "metadata": {},
                    "execution_count": 58
                }
            ],
            "metadata": {}
        },
        {
            "cell_type": "code",
            "execution_count": 59,
            "source": [
                "print(\"There are {} observations and {} features in this dataset. \\n\".format(df.shape[0],df.shape[1]))\n",
                "print(\"There are {} types of wine in this dataset such as {}... \\n\".format(len(df.variety.unique()), \", \".join(df.variety.unique()[0:5])))\n",
                "print(\"There are {} countries producing wine in this dataset such as {}... \\n\".format(len(df.country.unique()), \", \".join(df.country.unique()[0:5])))"
            ],
            "outputs": [
                {
                    "output_type": "stream",
                    "name": "stdout",
                    "text": [
                        "There are 129971 observations and 13 features in this dataset. \n",
                        "\n",
                        "There are 708 types of wine in this dataset such as White Blend, Portuguese Red, Pinot Gris, Riesling, Pinot Noir... \n",
                        "\n",
                        "There are 44 countries producing wine in this dataset such as Italy, Portugal, US, Spain, France... \n",
                        "\n"
                    ]
                }
            ],
            "metadata": {}
        },
        {
            "cell_type": "code",
            "execution_count": 60,
            "source": [
                "df[[\"country\", \"description\",\"points\"]].head()"
            ],
            "outputs": [
                {
                    "output_type": "execute_result",
                    "data": {
                        "text/plain": [
                            "    country                                        description  points\n",
                            "0     Italy  Aromas include tropical fruit, broom, brimston...      87\n",
                            "1  Portugal  This is ripe and fruity, a wine that is smooth...      87\n",
                            "2        US  Tart and snappy, the flavors of lime flesh and...      87\n",
                            "3        US  Pineapple rind, lemon pith and orange blossom ...      87\n",
                            "4        US  Much like the regular bottling from 2012, this...      87"
                        ],
                        "text/html": [
                            "<div>\n",
                            "<style scoped>\n",
                            "    .dataframe tbody tr th:only-of-type {\n",
                            "        vertical-align: middle;\n",
                            "    }\n",
                            "\n",
                            "    .dataframe tbody tr th {\n",
                            "        vertical-align: top;\n",
                            "    }\n",
                            "\n",
                            "    .dataframe thead th {\n",
                            "        text-align: right;\n",
                            "    }\n",
                            "</style>\n",
                            "<table border=\"1\" class=\"dataframe\">\n",
                            "  <thead>\n",
                            "    <tr style=\"text-align: right;\">\n",
                            "      <th></th>\n",
                            "      <th>country</th>\n",
                            "      <th>description</th>\n",
                            "      <th>points</th>\n",
                            "    </tr>\n",
                            "  </thead>\n",
                            "  <tbody>\n",
                            "    <tr>\n",
                            "      <th>0</th>\n",
                            "      <td>Italy</td>\n",
                            "      <td>Aromas include tropical fruit, broom, brimston...</td>\n",
                            "      <td>87</td>\n",
                            "    </tr>\n",
                            "    <tr>\n",
                            "      <th>1</th>\n",
                            "      <td>Portugal</td>\n",
                            "      <td>This is ripe and fruity, a wine that is smooth...</td>\n",
                            "      <td>87</td>\n",
                            "    </tr>\n",
                            "    <tr>\n",
                            "      <th>2</th>\n",
                            "      <td>US</td>\n",
                            "      <td>Tart and snappy, the flavors of lime flesh and...</td>\n",
                            "      <td>87</td>\n",
                            "    </tr>\n",
                            "    <tr>\n",
                            "      <th>3</th>\n",
                            "      <td>US</td>\n",
                            "      <td>Pineapple rind, lemon pith and orange blossom ...</td>\n",
                            "      <td>87</td>\n",
                            "    </tr>\n",
                            "    <tr>\n",
                            "      <th>4</th>\n",
                            "      <td>US</td>\n",
                            "      <td>Much like the regular bottling from 2012, this...</td>\n",
                            "      <td>87</td>\n",
                            "    </tr>\n",
                            "  </tbody>\n",
                            "</table>\n",
                            "</div>"
                        ]
                    },
                    "metadata": {},
                    "execution_count": 60
                }
            ],
            "metadata": {}
        },
        {
            "cell_type": "code",
            "execution_count": 61,
            "source": [
                "country = df.groupby(\"country\")\n",
                "country.describe().head()"
            ],
            "outputs": [
                {
                    "output_type": "execute_result",
                    "data": {
                        "text/plain": [
                            "                        points                                                 \\\n",
                            "                         count       mean       std   min    25%   50%    75%   \n",
                            "country                                                                         \n",
                            "Argentina               3800.0  86.710263  3.179627  80.0  84.00  87.0  89.00   \n",
                            "Armenia                    2.0  87.500000  0.707107  87.0  87.25  87.5  87.75   \n",
                            "Australia               2329.0  88.580507  2.989900  80.0  87.00  89.0  91.00   \n",
                            "Austria                 3345.0  90.101345  2.499799  82.0  88.00  90.0  92.00   \n",
                            "Bosnia and Herzegovina     2.0  86.500000  2.121320  85.0  85.75  86.5  87.25   \n",
                            "\n",
                            "                                price                                     \\\n",
                            "                          max   count       mean        std   min    25%   \n",
                            "country                                                                    \n",
                            "Argentina                97.0  3756.0  24.510117  23.430122   4.0  12.00   \n",
                            "Armenia                  88.0     2.0  14.500000   0.707107  14.0  14.25   \n",
                            "Australia               100.0  2294.0  35.437663  49.049458   5.0  15.00   \n",
                            "Austria                  98.0  2799.0  30.762772  27.224797   7.0  18.00   \n",
                            "Bosnia and Herzegovina   88.0     2.0  12.500000   0.707107  12.0  12.25   \n",
                            "\n",
                            "                                             \n",
                            "                         50%    75%     max  \n",
                            "country                                      \n",
                            "Argentina               17.0  25.00   230.0  \n",
                            "Armenia                 14.5  14.75    15.0  \n",
                            "Australia               21.0  38.00   850.0  \n",
                            "Austria                 25.0  36.50  1100.0  \n",
                            "Bosnia and Herzegovina  12.5  12.75    13.0  "
                        ],
                        "text/html": [
                            "<div>\n",
                            "<style scoped>\n",
                            "    .dataframe tbody tr th:only-of-type {\n",
                            "        vertical-align: middle;\n",
                            "    }\n",
                            "\n",
                            "    .dataframe tbody tr th {\n",
                            "        vertical-align: top;\n",
                            "    }\n",
                            "\n",
                            "    .dataframe thead tr th {\n",
                            "        text-align: left;\n",
                            "    }\n",
                            "\n",
                            "    .dataframe thead tr:last-of-type th {\n",
                            "        text-align: right;\n",
                            "    }\n",
                            "</style>\n",
                            "<table border=\"1\" class=\"dataframe\">\n",
                            "  <thead>\n",
                            "    <tr>\n",
                            "      <th></th>\n",
                            "      <th colspan=\"8\" halign=\"left\">points</th>\n",
                            "      <th colspan=\"8\" halign=\"left\">price</th>\n",
                            "    </tr>\n",
                            "    <tr>\n",
                            "      <th></th>\n",
                            "      <th>count</th>\n",
                            "      <th>mean</th>\n",
                            "      <th>std</th>\n",
                            "      <th>min</th>\n",
                            "      <th>25%</th>\n",
                            "      <th>50%</th>\n",
                            "      <th>75%</th>\n",
                            "      <th>max</th>\n",
                            "      <th>count</th>\n",
                            "      <th>mean</th>\n",
                            "      <th>std</th>\n",
                            "      <th>min</th>\n",
                            "      <th>25%</th>\n",
                            "      <th>50%</th>\n",
                            "      <th>75%</th>\n",
                            "      <th>max</th>\n",
                            "    </tr>\n",
                            "    <tr>\n",
                            "      <th>country</th>\n",
                            "      <th></th>\n",
                            "      <th></th>\n",
                            "      <th></th>\n",
                            "      <th></th>\n",
                            "      <th></th>\n",
                            "      <th></th>\n",
                            "      <th></th>\n",
                            "      <th></th>\n",
                            "      <th></th>\n",
                            "      <th></th>\n",
                            "      <th></th>\n",
                            "      <th></th>\n",
                            "      <th></th>\n",
                            "      <th></th>\n",
                            "      <th></th>\n",
                            "      <th></th>\n",
                            "    </tr>\n",
                            "  </thead>\n",
                            "  <tbody>\n",
                            "    <tr>\n",
                            "      <th>Argentina</th>\n",
                            "      <td>3800.0</td>\n",
                            "      <td>86.710263</td>\n",
                            "      <td>3.179627</td>\n",
                            "      <td>80.0</td>\n",
                            "      <td>84.00</td>\n",
                            "      <td>87.0</td>\n",
                            "      <td>89.00</td>\n",
                            "      <td>97.0</td>\n",
                            "      <td>3756.0</td>\n",
                            "      <td>24.510117</td>\n",
                            "      <td>23.430122</td>\n",
                            "      <td>4.0</td>\n",
                            "      <td>12.00</td>\n",
                            "      <td>17.0</td>\n",
                            "      <td>25.00</td>\n",
                            "      <td>230.0</td>\n",
                            "    </tr>\n",
                            "    <tr>\n",
                            "      <th>Armenia</th>\n",
                            "      <td>2.0</td>\n",
                            "      <td>87.500000</td>\n",
                            "      <td>0.707107</td>\n",
                            "      <td>87.0</td>\n",
                            "      <td>87.25</td>\n",
                            "      <td>87.5</td>\n",
                            "      <td>87.75</td>\n",
                            "      <td>88.0</td>\n",
                            "      <td>2.0</td>\n",
                            "      <td>14.500000</td>\n",
                            "      <td>0.707107</td>\n",
                            "      <td>14.0</td>\n",
                            "      <td>14.25</td>\n",
                            "      <td>14.5</td>\n",
                            "      <td>14.75</td>\n",
                            "      <td>15.0</td>\n",
                            "    </tr>\n",
                            "    <tr>\n",
                            "      <th>Australia</th>\n",
                            "      <td>2329.0</td>\n",
                            "      <td>88.580507</td>\n",
                            "      <td>2.989900</td>\n",
                            "      <td>80.0</td>\n",
                            "      <td>87.00</td>\n",
                            "      <td>89.0</td>\n",
                            "      <td>91.00</td>\n",
                            "      <td>100.0</td>\n",
                            "      <td>2294.0</td>\n",
                            "      <td>35.437663</td>\n",
                            "      <td>49.049458</td>\n",
                            "      <td>5.0</td>\n",
                            "      <td>15.00</td>\n",
                            "      <td>21.0</td>\n",
                            "      <td>38.00</td>\n",
                            "      <td>850.0</td>\n",
                            "    </tr>\n",
                            "    <tr>\n",
                            "      <th>Austria</th>\n",
                            "      <td>3345.0</td>\n",
                            "      <td>90.101345</td>\n",
                            "      <td>2.499799</td>\n",
                            "      <td>82.0</td>\n",
                            "      <td>88.00</td>\n",
                            "      <td>90.0</td>\n",
                            "      <td>92.00</td>\n",
                            "      <td>98.0</td>\n",
                            "      <td>2799.0</td>\n",
                            "      <td>30.762772</td>\n",
                            "      <td>27.224797</td>\n",
                            "      <td>7.0</td>\n",
                            "      <td>18.00</td>\n",
                            "      <td>25.0</td>\n",
                            "      <td>36.50</td>\n",
                            "      <td>1100.0</td>\n",
                            "    </tr>\n",
                            "    <tr>\n",
                            "      <th>Bosnia and Herzegovina</th>\n",
                            "      <td>2.0</td>\n",
                            "      <td>86.500000</td>\n",
                            "      <td>2.121320</td>\n",
                            "      <td>85.0</td>\n",
                            "      <td>85.75</td>\n",
                            "      <td>86.5</td>\n",
                            "      <td>87.25</td>\n",
                            "      <td>88.0</td>\n",
                            "      <td>2.0</td>\n",
                            "      <td>12.500000</td>\n",
                            "      <td>0.707107</td>\n",
                            "      <td>12.0</td>\n",
                            "      <td>12.25</td>\n",
                            "      <td>12.5</td>\n",
                            "      <td>12.75</td>\n",
                            "      <td>13.0</td>\n",
                            "    </tr>\n",
                            "  </tbody>\n",
                            "</table>\n",
                            "</div>"
                        ]
                    },
                    "metadata": {},
                    "execution_count": 61
                }
            ],
            "metadata": {}
        },
        {
            "cell_type": "code",
            "execution_count": 62,
            "source": [
                "country.mean().sort_values(by=\"points\",ascending=False).head()"
            ],
            "outputs": [
                {
                    "output_type": "execute_result",
                    "data": {
                        "text/plain": [
                            "            points      price\n",
                            "country                      \n",
                            "England  91.581081  51.681159\n",
                            "India    90.222222  13.333333\n",
                            "Austria  90.101345  30.762772\n",
                            "Germany  89.851732  42.257547\n",
                            "Canada   89.369650  35.712598"
                        ],
                        "text/html": [
                            "<div>\n",
                            "<style scoped>\n",
                            "    .dataframe tbody tr th:only-of-type {\n",
                            "        vertical-align: middle;\n",
                            "    }\n",
                            "\n",
                            "    .dataframe tbody tr th {\n",
                            "        vertical-align: top;\n",
                            "    }\n",
                            "\n",
                            "    .dataframe thead th {\n",
                            "        text-align: right;\n",
                            "    }\n",
                            "</style>\n",
                            "<table border=\"1\" class=\"dataframe\">\n",
                            "  <thead>\n",
                            "    <tr style=\"text-align: right;\">\n",
                            "      <th></th>\n",
                            "      <th>points</th>\n",
                            "      <th>price</th>\n",
                            "    </tr>\n",
                            "    <tr>\n",
                            "      <th>country</th>\n",
                            "      <th></th>\n",
                            "      <th></th>\n",
                            "    </tr>\n",
                            "  </thead>\n",
                            "  <tbody>\n",
                            "    <tr>\n",
                            "      <th>England</th>\n",
                            "      <td>91.581081</td>\n",
                            "      <td>51.681159</td>\n",
                            "    </tr>\n",
                            "    <tr>\n",
                            "      <th>India</th>\n",
                            "      <td>90.222222</td>\n",
                            "      <td>13.333333</td>\n",
                            "    </tr>\n",
                            "    <tr>\n",
                            "      <th>Austria</th>\n",
                            "      <td>90.101345</td>\n",
                            "      <td>30.762772</td>\n",
                            "    </tr>\n",
                            "    <tr>\n",
                            "      <th>Germany</th>\n",
                            "      <td>89.851732</td>\n",
                            "      <td>42.257547</td>\n",
                            "    </tr>\n",
                            "    <tr>\n",
                            "      <th>Canada</th>\n",
                            "      <td>89.369650</td>\n",
                            "      <td>35.712598</td>\n",
                            "    </tr>\n",
                            "  </tbody>\n",
                            "</table>\n",
                            "</div>"
                        ]
                    },
                    "metadata": {},
                    "execution_count": 62
                }
            ],
            "metadata": {}
        },
        {
            "cell_type": "code",
            "execution_count": 63,
            "source": [
                "from matplotlib import pyplot as plt\n",
                "plt.figure(figsize=(15,10))\n",
                "country.size().sort_values(ascending=False).plot.bar()\n",
                "plt.xticks(rotation=50)\n",
                "plt.xlabel(\"Country of Origin\")\n",
                "plt.ylabel(\"Number of Wines\")\n",
                "plt.show()"
            ],
            "outputs": [
                {
                    "output_type": "display_data",
                    "data": {
                        "text/plain": [
                            "<Figure size 1080x720 with 1 Axes>"
                        ],
                        "image/png": "[encoded data removed]"
                    },
                    "metadata": {
                        "needs_background": "light"
                    }
                }
            ],
            "metadata": {}
        },
        {
            "cell_type": "code",
            "execution_count": 64,
            "source": [
                "print(pd.__version__)"
            ],
            "outputs": [
                {
                    "output_type": "stream",
                    "name": "stdout",
                    "text": [
                        "1.3.1\n"
                    ]
                }
            ],
            "metadata": {}
        },
        {
            "cell_type": "code",
            "execution_count": 65,
            "source": [
                "# country[['points', 'price']].max() #valid in pandas >=1.4\n",
                "# country.max(['points', 'price']) #valid in pandas >= 1.4\n",
                "# country.max() #invalid in pandas >= 1.4"
            ],
            "outputs": [],
            "metadata": {}
        },
        {
            "cell_type": "code",
            "execution_count": 66,
            "source": [
                "plt.figure(figsize=(15,10))\n",
                "country.max([\"points\",\"price\"]).sort_values(by=\"points\",ascending=False)[\"points\"].plot.bar()\n",
                "plt.xticks(rotation=50)\n",
                "plt.xlabel(\"Country of Origin\")\n",
                "plt.ylabel(\"Highest point of Wines\")\n",
                "plt.show()"
            ],
            "outputs": [
                {
                    "output_type": "display_data",
                    "data": {
                        "text/plain": [
                            "<Figure size 1080x720 with 1 Axes>"
                        ],
                        "image/png": "[encoded data removed]"
                    },
                    "metadata": {
                        "needs_background": "light"
                    }
                }
            ],
            "metadata": {}
        },
        {
            "cell_type": "code",
            "execution_count": 100,
            "source": [
                "\n",
                "from wordcloud import WordCloud\n",
                "text = (\" \".join(review for review in df.description))\n",
                "print(\"There are {} unique words in the combination of all reviews.\".format(len(set(text.split(\" \")))))"
            ],
            "outputs": [
                {
                    "output_type": "stream",
                    "name": "stdout",
                    "text": [
                        "There are 78299 unique words in the combination of all reviews.\n"
                    ]
                }
            ],
            "metadata": {}
        },
        {
            "cell_type": "code",
            "execution_count": 56,
            "source": [
                "from wordcloud import STOPWORDS\n",
                "wordcloud = WordCloud(stopwords=STOPWORDS)\n",
                "processed_text = wordcloud.process_text(text)\n",
                "print(\"Of which {} are being used in the wordcloud.\".format(len(processed_text)))"
            ],
            "outputs": [
                {
                    "output_type": "stream",
                    "name": "stdout",
                    "text": [
                        "Of which 55804 are being used in the wordcloud.\n"
                    ]
                }
            ],
            "metadata": {}
        },
        {
            "cell_type": "code",
            "execution_count": 119,
            "source": [
                "uk_rows = df.query(\"country=='England'\").description\n",
                "uk_reviews = (\" \".join(review for review in uk_rows))\n",
                "uk_text = wordcloud.process_text(uk_reviews)\n",
                "print(\"{} words are being used to write about English wines.\".format(len(uk_text)))"
            ],
            "outputs": [
                {
                    "output_type": "stream",
                    "name": "stdout",
                    "text": [
                        "738 words are being used to write about English wines.\n"
                    ]
                }
            ],
            "metadata": {}
        }
    ],
    "metadata": {
        "orig_nbformat": 4,
        "language_info": {
            "name": "python",
            "version": "3.9.5",
            "mimetype": "text/x-python",
            "codemirror_mode": {
                "name": "ipython",
                "version": 3
            },
            "pygments_lexer": "ipython3",
            "nbconvert_exporter": "python",
            "file_extension": ".py"
        },
        "kernelspec": {
            "name": "python3",
            "display_name": "Python 3.9.5 64-bit ('wordcloud-_GYopNN8': pipenv)"
        },
        "interpreter": {
            "hash": "1ee2b6bae17d26f5d2cd3a59a964b236ddf95fc361d33cb5f60c997ade834f15"
        }
    },
    "nbformat": 4,
    "nbformat_minor": 2
}